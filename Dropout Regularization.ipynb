{
 "cells": [
  {
   "cell_type": "code",
   "execution_count": 28,
   "id": "9076a775",
   "metadata": {},
   "outputs": [],
   "source": [
    "import pandas as pd\n",
    "import numpy as np\n",
    "import matplotlib.pyplot as plt\n",
    "import tensorflow as tf\n",
    "from tensorflow import keras"
   ]
  },
  {
   "cell_type": "code",
   "execution_count": 29,
   "id": "1974cd63",
   "metadata": {},
   "outputs": [],
   "source": [
    "df=pd.read_csv('D:\\DSP\\sonar_dataset.csv',header=None)"
   ]
  },
  {
   "cell_type": "code",
   "execution_count": 30,
   "id": "16b04f7e",
   "metadata": {},
   "outputs": [
    {
     "data": {
      "text/html": [
       "<div>\n",
       "<style scoped>\n",
       "    .dataframe tbody tr th:only-of-type {\n",
       "        vertical-align: middle;\n",
       "    }\n",
       "\n",
       "    .dataframe tbody tr th {\n",
       "        vertical-align: top;\n",
       "    }\n",
       "\n",
       "    .dataframe thead th {\n",
       "        text-align: right;\n",
       "    }\n",
       "</style>\n",
       "<table border=\"1\" class=\"dataframe\">\n",
       "  <thead>\n",
       "    <tr style=\"text-align: right;\">\n",
       "      <th></th>\n",
       "      <th>0</th>\n",
       "      <th>1</th>\n",
       "      <th>2</th>\n",
       "      <th>3</th>\n",
       "      <th>4</th>\n",
       "      <th>5</th>\n",
       "      <th>6</th>\n",
       "      <th>7</th>\n",
       "      <th>8</th>\n",
       "      <th>9</th>\n",
       "      <th>...</th>\n",
       "      <th>51</th>\n",
       "      <th>52</th>\n",
       "      <th>53</th>\n",
       "      <th>54</th>\n",
       "      <th>55</th>\n",
       "      <th>56</th>\n",
       "      <th>57</th>\n",
       "      <th>58</th>\n",
       "      <th>59</th>\n",
       "      <th>60</th>\n",
       "    </tr>\n",
       "  </thead>\n",
       "  <tbody>\n",
       "    <tr>\n",
       "      <th>0</th>\n",
       "      <td>0.0200</td>\n",
       "      <td>0.0371</td>\n",
       "      <td>0.0428</td>\n",
       "      <td>0.0207</td>\n",
       "      <td>0.0954</td>\n",
       "      <td>0.0986</td>\n",
       "      <td>0.1539</td>\n",
       "      <td>0.1601</td>\n",
       "      <td>0.3109</td>\n",
       "      <td>0.2111</td>\n",
       "      <td>...</td>\n",
       "      <td>0.0027</td>\n",
       "      <td>0.0065</td>\n",
       "      <td>0.0159</td>\n",
       "      <td>0.0072</td>\n",
       "      <td>0.0167</td>\n",
       "      <td>0.0180</td>\n",
       "      <td>0.0084</td>\n",
       "      <td>0.0090</td>\n",
       "      <td>0.0032</td>\n",
       "      <td>R</td>\n",
       "    </tr>\n",
       "    <tr>\n",
       "      <th>1</th>\n",
       "      <td>0.0453</td>\n",
       "      <td>0.0523</td>\n",
       "      <td>0.0843</td>\n",
       "      <td>0.0689</td>\n",
       "      <td>0.1183</td>\n",
       "      <td>0.2583</td>\n",
       "      <td>0.2156</td>\n",
       "      <td>0.3481</td>\n",
       "      <td>0.3337</td>\n",
       "      <td>0.2872</td>\n",
       "      <td>...</td>\n",
       "      <td>0.0084</td>\n",
       "      <td>0.0089</td>\n",
       "      <td>0.0048</td>\n",
       "      <td>0.0094</td>\n",
       "      <td>0.0191</td>\n",
       "      <td>0.0140</td>\n",
       "      <td>0.0049</td>\n",
       "      <td>0.0052</td>\n",
       "      <td>0.0044</td>\n",
       "      <td>R</td>\n",
       "    </tr>\n",
       "    <tr>\n",
       "      <th>2</th>\n",
       "      <td>0.0262</td>\n",
       "      <td>0.0582</td>\n",
       "      <td>0.1099</td>\n",
       "      <td>0.1083</td>\n",
       "      <td>0.0974</td>\n",
       "      <td>0.2280</td>\n",
       "      <td>0.2431</td>\n",
       "      <td>0.3771</td>\n",
       "      <td>0.5598</td>\n",
       "      <td>0.6194</td>\n",
       "      <td>...</td>\n",
       "      <td>0.0232</td>\n",
       "      <td>0.0166</td>\n",
       "      <td>0.0095</td>\n",
       "      <td>0.0180</td>\n",
       "      <td>0.0244</td>\n",
       "      <td>0.0316</td>\n",
       "      <td>0.0164</td>\n",
       "      <td>0.0095</td>\n",
       "      <td>0.0078</td>\n",
       "      <td>R</td>\n",
       "    </tr>\n",
       "    <tr>\n",
       "      <th>3</th>\n",
       "      <td>0.0100</td>\n",
       "      <td>0.0171</td>\n",
       "      <td>0.0623</td>\n",
       "      <td>0.0205</td>\n",
       "      <td>0.0205</td>\n",
       "      <td>0.0368</td>\n",
       "      <td>0.1098</td>\n",
       "      <td>0.1276</td>\n",
       "      <td>0.0598</td>\n",
       "      <td>0.1264</td>\n",
       "      <td>...</td>\n",
       "      <td>0.0121</td>\n",
       "      <td>0.0036</td>\n",
       "      <td>0.0150</td>\n",
       "      <td>0.0085</td>\n",
       "      <td>0.0073</td>\n",
       "      <td>0.0050</td>\n",
       "      <td>0.0044</td>\n",
       "      <td>0.0040</td>\n",
       "      <td>0.0117</td>\n",
       "      <td>R</td>\n",
       "    </tr>\n",
       "    <tr>\n",
       "      <th>4</th>\n",
       "      <td>0.0762</td>\n",
       "      <td>0.0666</td>\n",
       "      <td>0.0481</td>\n",
       "      <td>0.0394</td>\n",
       "      <td>0.0590</td>\n",
       "      <td>0.0649</td>\n",
       "      <td>0.1209</td>\n",
       "      <td>0.2467</td>\n",
       "      <td>0.3564</td>\n",
       "      <td>0.4459</td>\n",
       "      <td>...</td>\n",
       "      <td>0.0031</td>\n",
       "      <td>0.0054</td>\n",
       "      <td>0.0105</td>\n",
       "      <td>0.0110</td>\n",
       "      <td>0.0015</td>\n",
       "      <td>0.0072</td>\n",
       "      <td>0.0048</td>\n",
       "      <td>0.0107</td>\n",
       "      <td>0.0094</td>\n",
       "      <td>R</td>\n",
       "    </tr>\n",
       "  </tbody>\n",
       "</table>\n",
       "<p>5 rows × 61 columns</p>\n",
       "</div>"
      ],
      "text/plain": [
       "       0       1       2       3       4       5       6       7       8   \\\n",
       "0  0.0200  0.0371  0.0428  0.0207  0.0954  0.0986  0.1539  0.1601  0.3109   \n",
       "1  0.0453  0.0523  0.0843  0.0689  0.1183  0.2583  0.2156  0.3481  0.3337   \n",
       "2  0.0262  0.0582  0.1099  0.1083  0.0974  0.2280  0.2431  0.3771  0.5598   \n",
       "3  0.0100  0.0171  0.0623  0.0205  0.0205  0.0368  0.1098  0.1276  0.0598   \n",
       "4  0.0762  0.0666  0.0481  0.0394  0.0590  0.0649  0.1209  0.2467  0.3564   \n",
       "\n",
       "       9   ...      51      52      53      54      55      56      57  \\\n",
       "0  0.2111  ...  0.0027  0.0065  0.0159  0.0072  0.0167  0.0180  0.0084   \n",
       "1  0.2872  ...  0.0084  0.0089  0.0048  0.0094  0.0191  0.0140  0.0049   \n",
       "2  0.6194  ...  0.0232  0.0166  0.0095  0.0180  0.0244  0.0316  0.0164   \n",
       "3  0.1264  ...  0.0121  0.0036  0.0150  0.0085  0.0073  0.0050  0.0044   \n",
       "4  0.4459  ...  0.0031  0.0054  0.0105  0.0110  0.0015  0.0072  0.0048   \n",
       "\n",
       "       58      59  60  \n",
       "0  0.0090  0.0032   R  \n",
       "1  0.0052  0.0044   R  \n",
       "2  0.0095  0.0078   R  \n",
       "3  0.0040  0.0117   R  \n",
       "4  0.0107  0.0094   R  \n",
       "\n",
       "[5 rows x 61 columns]"
      ]
     },
     "execution_count": 30,
     "metadata": {},
     "output_type": "execute_result"
    }
   ],
   "source": [
    "df.head()"
   ]
  },
  {
   "cell_type": "code",
   "execution_count": 31,
   "id": "7d20695e",
   "metadata": {},
   "outputs": [
    {
     "data": {
      "text/plain": [
       "0.0125    4\n",
       "0.0154    4\n",
       "0.0104    3\n",
       "0.0137    3\n",
       "0.0140    3\n",
       "         ..\n",
       "0.0047    1\n",
       "0.0025    1\n",
       "0.0019    1\n",
       "0.0018    1\n",
       "0.0042    1\n",
       "Name: 50, Length: 160, dtype: int64"
      ]
     },
     "execution_count": 31,
     "metadata": {},
     "output_type": "execute_result"
    }
   ],
   "source": [
    "df[50].value_counts()"
   ]
  },
  {
   "cell_type": "code",
   "execution_count": 32,
   "id": "83c62cc1",
   "metadata": {},
   "outputs": [
    {
     "data": {
      "text/plain": [
       "M    111\n",
       "R     97\n",
       "Name: 60, dtype: int64"
      ]
     },
     "execution_count": 32,
     "metadata": {},
     "output_type": "execute_result"
    }
   ],
   "source": [
    "df[60].value_counts()"
   ]
  },
  {
   "cell_type": "code",
   "execution_count": 9,
   "id": "0d16b161",
   "metadata": {},
   "outputs": [],
   "source": [
    "x=df.drop(60,axis=1)\n",
    "y=df[60]"
   ]
  },
  {
   "cell_type": "code",
   "execution_count": 10,
   "id": "a6ed580c",
   "metadata": {},
   "outputs": [
    {
     "data": {
      "text/plain": [
       "0      R\n",
       "1      R\n",
       "2      R\n",
       "3      R\n",
       "4      R\n",
       "      ..\n",
       "203    M\n",
       "204    M\n",
       "205    M\n",
       "206    M\n",
       "207    M\n",
       "Name: 60, Length: 208, dtype: object"
      ]
     },
     "execution_count": 10,
     "metadata": {},
     "output_type": "execute_result"
    }
   ],
   "source": [
    "y"
   ]
  },
  {
   "cell_type": "code",
   "execution_count": 33,
   "id": "fe517eb5",
   "metadata": {},
   "outputs": [],
   "source": [
    "y=pd.get_dummies(data=df,columns=[60],drop_first=True)"
   ]
  },
  {
   "cell_type": "code",
   "execution_count": 34,
   "id": "32f578b1",
   "metadata": {},
   "outputs": [
    {
     "data": {
      "text/html": [
       "<div>\n",
       "<style scoped>\n",
       "    .dataframe tbody tr th:only-of-type {\n",
       "        vertical-align: middle;\n",
       "    }\n",
       "\n",
       "    .dataframe tbody tr th {\n",
       "        vertical-align: top;\n",
       "    }\n",
       "\n",
       "    .dataframe thead th {\n",
       "        text-align: right;\n",
       "    }\n",
       "</style>\n",
       "<table border=\"1\" class=\"dataframe\">\n",
       "  <thead>\n",
       "    <tr style=\"text-align: right;\">\n",
       "      <th></th>\n",
       "      <th>0</th>\n",
       "      <th>1</th>\n",
       "      <th>2</th>\n",
       "      <th>3</th>\n",
       "      <th>4</th>\n",
       "      <th>5</th>\n",
       "      <th>6</th>\n",
       "      <th>7</th>\n",
       "      <th>8</th>\n",
       "      <th>9</th>\n",
       "      <th>...</th>\n",
       "      <th>51</th>\n",
       "      <th>52</th>\n",
       "      <th>53</th>\n",
       "      <th>54</th>\n",
       "      <th>55</th>\n",
       "      <th>56</th>\n",
       "      <th>57</th>\n",
       "      <th>58</th>\n",
       "      <th>59</th>\n",
       "      <th>60_R</th>\n",
       "    </tr>\n",
       "  </thead>\n",
       "  <tbody>\n",
       "    <tr>\n",
       "      <th>62</th>\n",
       "      <td>0.0086</td>\n",
       "      <td>0.0215</td>\n",
       "      <td>0.0242</td>\n",
       "      <td>0.0445</td>\n",
       "      <td>0.0667</td>\n",
       "      <td>0.0771</td>\n",
       "      <td>0.0499</td>\n",
       "      <td>0.0906</td>\n",
       "      <td>0.1229</td>\n",
       "      <td>0.1185</td>\n",
       "      <td>...</td>\n",
       "      <td>0.0072</td>\n",
       "      <td>0.0054</td>\n",
       "      <td>0.0022</td>\n",
       "      <td>0.0016</td>\n",
       "      <td>0.0029</td>\n",
       "      <td>0.0058</td>\n",
       "      <td>0.0050</td>\n",
       "      <td>0.0024</td>\n",
       "      <td>0.0030</td>\n",
       "      <td>1</td>\n",
       "    </tr>\n",
       "    <tr>\n",
       "      <th>175</th>\n",
       "      <td>0.0294</td>\n",
       "      <td>0.0123</td>\n",
       "      <td>0.0117</td>\n",
       "      <td>0.0113</td>\n",
       "      <td>0.0497</td>\n",
       "      <td>0.0998</td>\n",
       "      <td>0.1326</td>\n",
       "      <td>0.1117</td>\n",
       "      <td>0.2984</td>\n",
       "      <td>0.3473</td>\n",
       "      <td>...</td>\n",
       "      <td>0.0056</td>\n",
       "      <td>0.0104</td>\n",
       "      <td>0.0079</td>\n",
       "      <td>0.0014</td>\n",
       "      <td>0.0054</td>\n",
       "      <td>0.0015</td>\n",
       "      <td>0.0006</td>\n",
       "      <td>0.0081</td>\n",
       "      <td>0.0043</td>\n",
       "      <td>0</td>\n",
       "    </tr>\n",
       "    <tr>\n",
       "      <th>86</th>\n",
       "      <td>0.0188</td>\n",
       "      <td>0.0370</td>\n",
       "      <td>0.0953</td>\n",
       "      <td>0.0824</td>\n",
       "      <td>0.0249</td>\n",
       "      <td>0.0488</td>\n",
       "      <td>0.1424</td>\n",
       "      <td>0.1972</td>\n",
       "      <td>0.1873</td>\n",
       "      <td>0.1806</td>\n",
       "      <td>...</td>\n",
       "      <td>0.0093</td>\n",
       "      <td>0.0033</td>\n",
       "      <td>0.0113</td>\n",
       "      <td>0.0030</td>\n",
       "      <td>0.0057</td>\n",
       "      <td>0.0090</td>\n",
       "      <td>0.0057</td>\n",
       "      <td>0.0068</td>\n",
       "      <td>0.0024</td>\n",
       "      <td>1</td>\n",
       "    </tr>\n",
       "    <tr>\n",
       "      <th>0</th>\n",
       "      <td>0.0200</td>\n",
       "      <td>0.0371</td>\n",
       "      <td>0.0428</td>\n",
       "      <td>0.0207</td>\n",
       "      <td>0.0954</td>\n",
       "      <td>0.0986</td>\n",
       "      <td>0.1539</td>\n",
       "      <td>0.1601</td>\n",
       "      <td>0.3109</td>\n",
       "      <td>0.2111</td>\n",
       "      <td>...</td>\n",
       "      <td>0.0027</td>\n",
       "      <td>0.0065</td>\n",
       "      <td>0.0159</td>\n",
       "      <td>0.0072</td>\n",
       "      <td>0.0167</td>\n",
       "      <td>0.0180</td>\n",
       "      <td>0.0084</td>\n",
       "      <td>0.0090</td>\n",
       "      <td>0.0032</td>\n",
       "      <td>1</td>\n",
       "    </tr>\n",
       "    <tr>\n",
       "      <th>103</th>\n",
       "      <td>0.0162</td>\n",
       "      <td>0.0253</td>\n",
       "      <td>0.0262</td>\n",
       "      <td>0.0386</td>\n",
       "      <td>0.0645</td>\n",
       "      <td>0.0472</td>\n",
       "      <td>0.1056</td>\n",
       "      <td>0.1388</td>\n",
       "      <td>0.0598</td>\n",
       "      <td>0.1334</td>\n",
       "      <td>...</td>\n",
       "      <td>0.0071</td>\n",
       "      <td>0.0082</td>\n",
       "      <td>0.0232</td>\n",
       "      <td>0.0198</td>\n",
       "      <td>0.0074</td>\n",
       "      <td>0.0035</td>\n",
       "      <td>0.0100</td>\n",
       "      <td>0.0048</td>\n",
       "      <td>0.0019</td>\n",
       "      <td>0</td>\n",
       "    </tr>\n",
       "  </tbody>\n",
       "</table>\n",
       "<p>5 rows × 61 columns</p>\n",
       "</div>"
      ],
      "text/plain": [
       "          0       1       2       3       4       5       6       7       8  \\\n",
       "62   0.0086  0.0215  0.0242  0.0445  0.0667  0.0771  0.0499  0.0906  0.1229   \n",
       "175  0.0294  0.0123  0.0117  0.0113  0.0497  0.0998  0.1326  0.1117  0.2984   \n",
       "86   0.0188  0.0370  0.0953  0.0824  0.0249  0.0488  0.1424  0.1972  0.1873   \n",
       "0    0.0200  0.0371  0.0428  0.0207  0.0954  0.0986  0.1539  0.1601  0.3109   \n",
       "103  0.0162  0.0253  0.0262  0.0386  0.0645  0.0472  0.1056  0.1388  0.0598   \n",
       "\n",
       "          9  ...      51      52      53      54      55      56      57  \\\n",
       "62   0.1185  ...  0.0072  0.0054  0.0022  0.0016  0.0029  0.0058  0.0050   \n",
       "175  0.3473  ...  0.0056  0.0104  0.0079  0.0014  0.0054  0.0015  0.0006   \n",
       "86   0.1806  ...  0.0093  0.0033  0.0113  0.0030  0.0057  0.0090  0.0057   \n",
       "0    0.2111  ...  0.0027  0.0065  0.0159  0.0072  0.0167  0.0180  0.0084   \n",
       "103  0.1334  ...  0.0071  0.0082  0.0232  0.0198  0.0074  0.0035  0.0100   \n",
       "\n",
       "         58      59  60_R  \n",
       "62   0.0024  0.0030     1  \n",
       "175  0.0081  0.0043     0  \n",
       "86   0.0068  0.0024     1  \n",
       "0    0.0090  0.0032     1  \n",
       "103  0.0048  0.0019     0  \n",
       "\n",
       "[5 rows x 61 columns]"
      ]
     },
     "execution_count": 34,
     "metadata": {},
     "output_type": "execute_result"
    }
   ],
   "source": [
    "y.sample(5)"
   ]
  },
  {
   "cell_type": "code",
   "execution_count": 35,
   "id": "35863965",
   "metadata": {},
   "outputs": [],
   "source": [
    "df=y.copy()"
   ]
  },
  {
   "cell_type": "code",
   "execution_count": 36,
   "id": "6648a166",
   "metadata": {},
   "outputs": [
    {
     "data": {
      "text/html": [
       "<div>\n",
       "<style scoped>\n",
       "    .dataframe tbody tr th:only-of-type {\n",
       "        vertical-align: middle;\n",
       "    }\n",
       "\n",
       "    .dataframe tbody tr th {\n",
       "        vertical-align: top;\n",
       "    }\n",
       "\n",
       "    .dataframe thead th {\n",
       "        text-align: right;\n",
       "    }\n",
       "</style>\n",
       "<table border=\"1\" class=\"dataframe\">\n",
       "  <thead>\n",
       "    <tr style=\"text-align: right;\">\n",
       "      <th></th>\n",
       "      <th>0</th>\n",
       "      <th>1</th>\n",
       "      <th>2</th>\n",
       "      <th>3</th>\n",
       "      <th>4</th>\n",
       "      <th>5</th>\n",
       "      <th>6</th>\n",
       "      <th>7</th>\n",
       "      <th>8</th>\n",
       "      <th>9</th>\n",
       "      <th>...</th>\n",
       "      <th>51</th>\n",
       "      <th>52</th>\n",
       "      <th>53</th>\n",
       "      <th>54</th>\n",
       "      <th>55</th>\n",
       "      <th>56</th>\n",
       "      <th>57</th>\n",
       "      <th>58</th>\n",
       "      <th>59</th>\n",
       "      <th>60_R</th>\n",
       "    </tr>\n",
       "  </thead>\n",
       "  <tbody>\n",
       "    <tr>\n",
       "      <th>0</th>\n",
       "      <td>0.0200</td>\n",
       "      <td>0.0371</td>\n",
       "      <td>0.0428</td>\n",
       "      <td>0.0207</td>\n",
       "      <td>0.0954</td>\n",
       "      <td>0.0986</td>\n",
       "      <td>0.1539</td>\n",
       "      <td>0.1601</td>\n",
       "      <td>0.3109</td>\n",
       "      <td>0.2111</td>\n",
       "      <td>...</td>\n",
       "      <td>0.0027</td>\n",
       "      <td>0.0065</td>\n",
       "      <td>0.0159</td>\n",
       "      <td>0.0072</td>\n",
       "      <td>0.0167</td>\n",
       "      <td>0.0180</td>\n",
       "      <td>0.0084</td>\n",
       "      <td>0.0090</td>\n",
       "      <td>0.0032</td>\n",
       "      <td>1</td>\n",
       "    </tr>\n",
       "    <tr>\n",
       "      <th>1</th>\n",
       "      <td>0.0453</td>\n",
       "      <td>0.0523</td>\n",
       "      <td>0.0843</td>\n",
       "      <td>0.0689</td>\n",
       "      <td>0.1183</td>\n",
       "      <td>0.2583</td>\n",
       "      <td>0.2156</td>\n",
       "      <td>0.3481</td>\n",
       "      <td>0.3337</td>\n",
       "      <td>0.2872</td>\n",
       "      <td>...</td>\n",
       "      <td>0.0084</td>\n",
       "      <td>0.0089</td>\n",
       "      <td>0.0048</td>\n",
       "      <td>0.0094</td>\n",
       "      <td>0.0191</td>\n",
       "      <td>0.0140</td>\n",
       "      <td>0.0049</td>\n",
       "      <td>0.0052</td>\n",
       "      <td>0.0044</td>\n",
       "      <td>1</td>\n",
       "    </tr>\n",
       "    <tr>\n",
       "      <th>2</th>\n",
       "      <td>0.0262</td>\n",
       "      <td>0.0582</td>\n",
       "      <td>0.1099</td>\n",
       "      <td>0.1083</td>\n",
       "      <td>0.0974</td>\n",
       "      <td>0.2280</td>\n",
       "      <td>0.2431</td>\n",
       "      <td>0.3771</td>\n",
       "      <td>0.5598</td>\n",
       "      <td>0.6194</td>\n",
       "      <td>...</td>\n",
       "      <td>0.0232</td>\n",
       "      <td>0.0166</td>\n",
       "      <td>0.0095</td>\n",
       "      <td>0.0180</td>\n",
       "      <td>0.0244</td>\n",
       "      <td>0.0316</td>\n",
       "      <td>0.0164</td>\n",
       "      <td>0.0095</td>\n",
       "      <td>0.0078</td>\n",
       "      <td>1</td>\n",
       "    </tr>\n",
       "    <tr>\n",
       "      <th>3</th>\n",
       "      <td>0.0100</td>\n",
       "      <td>0.0171</td>\n",
       "      <td>0.0623</td>\n",
       "      <td>0.0205</td>\n",
       "      <td>0.0205</td>\n",
       "      <td>0.0368</td>\n",
       "      <td>0.1098</td>\n",
       "      <td>0.1276</td>\n",
       "      <td>0.0598</td>\n",
       "      <td>0.1264</td>\n",
       "      <td>...</td>\n",
       "      <td>0.0121</td>\n",
       "      <td>0.0036</td>\n",
       "      <td>0.0150</td>\n",
       "      <td>0.0085</td>\n",
       "      <td>0.0073</td>\n",
       "      <td>0.0050</td>\n",
       "      <td>0.0044</td>\n",
       "      <td>0.0040</td>\n",
       "      <td>0.0117</td>\n",
       "      <td>1</td>\n",
       "    </tr>\n",
       "    <tr>\n",
       "      <th>4</th>\n",
       "      <td>0.0762</td>\n",
       "      <td>0.0666</td>\n",
       "      <td>0.0481</td>\n",
       "      <td>0.0394</td>\n",
       "      <td>0.0590</td>\n",
       "      <td>0.0649</td>\n",
       "      <td>0.1209</td>\n",
       "      <td>0.2467</td>\n",
       "      <td>0.3564</td>\n",
       "      <td>0.4459</td>\n",
       "      <td>...</td>\n",
       "      <td>0.0031</td>\n",
       "      <td>0.0054</td>\n",
       "      <td>0.0105</td>\n",
       "      <td>0.0110</td>\n",
       "      <td>0.0015</td>\n",
       "      <td>0.0072</td>\n",
       "      <td>0.0048</td>\n",
       "      <td>0.0107</td>\n",
       "      <td>0.0094</td>\n",
       "      <td>1</td>\n",
       "    </tr>\n",
       "    <tr>\n",
       "      <th>...</th>\n",
       "      <td>...</td>\n",
       "      <td>...</td>\n",
       "      <td>...</td>\n",
       "      <td>...</td>\n",
       "      <td>...</td>\n",
       "      <td>...</td>\n",
       "      <td>...</td>\n",
       "      <td>...</td>\n",
       "      <td>...</td>\n",
       "      <td>...</td>\n",
       "      <td>...</td>\n",
       "      <td>...</td>\n",
       "      <td>...</td>\n",
       "      <td>...</td>\n",
       "      <td>...</td>\n",
       "      <td>...</td>\n",
       "      <td>...</td>\n",
       "      <td>...</td>\n",
       "      <td>...</td>\n",
       "      <td>...</td>\n",
       "      <td>...</td>\n",
       "    </tr>\n",
       "    <tr>\n",
       "      <th>203</th>\n",
       "      <td>0.0187</td>\n",
       "      <td>0.0346</td>\n",
       "      <td>0.0168</td>\n",
       "      <td>0.0177</td>\n",
       "      <td>0.0393</td>\n",
       "      <td>0.1630</td>\n",
       "      <td>0.2028</td>\n",
       "      <td>0.1694</td>\n",
       "      <td>0.2328</td>\n",
       "      <td>0.2684</td>\n",
       "      <td>...</td>\n",
       "      <td>0.0116</td>\n",
       "      <td>0.0098</td>\n",
       "      <td>0.0199</td>\n",
       "      <td>0.0033</td>\n",
       "      <td>0.0101</td>\n",
       "      <td>0.0065</td>\n",
       "      <td>0.0115</td>\n",
       "      <td>0.0193</td>\n",
       "      <td>0.0157</td>\n",
       "      <td>0</td>\n",
       "    </tr>\n",
       "    <tr>\n",
       "      <th>204</th>\n",
       "      <td>0.0323</td>\n",
       "      <td>0.0101</td>\n",
       "      <td>0.0298</td>\n",
       "      <td>0.0564</td>\n",
       "      <td>0.0760</td>\n",
       "      <td>0.0958</td>\n",
       "      <td>0.0990</td>\n",
       "      <td>0.1018</td>\n",
       "      <td>0.1030</td>\n",
       "      <td>0.2154</td>\n",
       "      <td>...</td>\n",
       "      <td>0.0061</td>\n",
       "      <td>0.0093</td>\n",
       "      <td>0.0135</td>\n",
       "      <td>0.0063</td>\n",
       "      <td>0.0063</td>\n",
       "      <td>0.0034</td>\n",
       "      <td>0.0032</td>\n",
       "      <td>0.0062</td>\n",
       "      <td>0.0067</td>\n",
       "      <td>0</td>\n",
       "    </tr>\n",
       "    <tr>\n",
       "      <th>205</th>\n",
       "      <td>0.0522</td>\n",
       "      <td>0.0437</td>\n",
       "      <td>0.0180</td>\n",
       "      <td>0.0292</td>\n",
       "      <td>0.0351</td>\n",
       "      <td>0.1171</td>\n",
       "      <td>0.1257</td>\n",
       "      <td>0.1178</td>\n",
       "      <td>0.1258</td>\n",
       "      <td>0.2529</td>\n",
       "      <td>...</td>\n",
       "      <td>0.0160</td>\n",
       "      <td>0.0029</td>\n",
       "      <td>0.0051</td>\n",
       "      <td>0.0062</td>\n",
       "      <td>0.0089</td>\n",
       "      <td>0.0140</td>\n",
       "      <td>0.0138</td>\n",
       "      <td>0.0077</td>\n",
       "      <td>0.0031</td>\n",
       "      <td>0</td>\n",
       "    </tr>\n",
       "    <tr>\n",
       "      <th>206</th>\n",
       "      <td>0.0303</td>\n",
       "      <td>0.0353</td>\n",
       "      <td>0.0490</td>\n",
       "      <td>0.0608</td>\n",
       "      <td>0.0167</td>\n",
       "      <td>0.1354</td>\n",
       "      <td>0.1465</td>\n",
       "      <td>0.1123</td>\n",
       "      <td>0.1945</td>\n",
       "      <td>0.2354</td>\n",
       "      <td>...</td>\n",
       "      <td>0.0086</td>\n",
       "      <td>0.0046</td>\n",
       "      <td>0.0126</td>\n",
       "      <td>0.0036</td>\n",
       "      <td>0.0035</td>\n",
       "      <td>0.0034</td>\n",
       "      <td>0.0079</td>\n",
       "      <td>0.0036</td>\n",
       "      <td>0.0048</td>\n",
       "      <td>0</td>\n",
       "    </tr>\n",
       "    <tr>\n",
       "      <th>207</th>\n",
       "      <td>0.0260</td>\n",
       "      <td>0.0363</td>\n",
       "      <td>0.0136</td>\n",
       "      <td>0.0272</td>\n",
       "      <td>0.0214</td>\n",
       "      <td>0.0338</td>\n",
       "      <td>0.0655</td>\n",
       "      <td>0.1400</td>\n",
       "      <td>0.1843</td>\n",
       "      <td>0.2354</td>\n",
       "      <td>...</td>\n",
       "      <td>0.0146</td>\n",
       "      <td>0.0129</td>\n",
       "      <td>0.0047</td>\n",
       "      <td>0.0039</td>\n",
       "      <td>0.0061</td>\n",
       "      <td>0.0040</td>\n",
       "      <td>0.0036</td>\n",
       "      <td>0.0061</td>\n",
       "      <td>0.0115</td>\n",
       "      <td>0</td>\n",
       "    </tr>\n",
       "  </tbody>\n",
       "</table>\n",
       "<p>208 rows × 61 columns</p>\n",
       "</div>"
      ],
      "text/plain": [
       "          0       1       2       3       4       5       6       7       8  \\\n",
       "0    0.0200  0.0371  0.0428  0.0207  0.0954  0.0986  0.1539  0.1601  0.3109   \n",
       "1    0.0453  0.0523  0.0843  0.0689  0.1183  0.2583  0.2156  0.3481  0.3337   \n",
       "2    0.0262  0.0582  0.1099  0.1083  0.0974  0.2280  0.2431  0.3771  0.5598   \n",
       "3    0.0100  0.0171  0.0623  0.0205  0.0205  0.0368  0.1098  0.1276  0.0598   \n",
       "4    0.0762  0.0666  0.0481  0.0394  0.0590  0.0649  0.1209  0.2467  0.3564   \n",
       "..      ...     ...     ...     ...     ...     ...     ...     ...     ...   \n",
       "203  0.0187  0.0346  0.0168  0.0177  0.0393  0.1630  0.2028  0.1694  0.2328   \n",
       "204  0.0323  0.0101  0.0298  0.0564  0.0760  0.0958  0.0990  0.1018  0.1030   \n",
       "205  0.0522  0.0437  0.0180  0.0292  0.0351  0.1171  0.1257  0.1178  0.1258   \n",
       "206  0.0303  0.0353  0.0490  0.0608  0.0167  0.1354  0.1465  0.1123  0.1945   \n",
       "207  0.0260  0.0363  0.0136  0.0272  0.0214  0.0338  0.0655  0.1400  0.1843   \n",
       "\n",
       "          9  ...      51      52      53      54      55      56      57  \\\n",
       "0    0.2111  ...  0.0027  0.0065  0.0159  0.0072  0.0167  0.0180  0.0084   \n",
       "1    0.2872  ...  0.0084  0.0089  0.0048  0.0094  0.0191  0.0140  0.0049   \n",
       "2    0.6194  ...  0.0232  0.0166  0.0095  0.0180  0.0244  0.0316  0.0164   \n",
       "3    0.1264  ...  0.0121  0.0036  0.0150  0.0085  0.0073  0.0050  0.0044   \n",
       "4    0.4459  ...  0.0031  0.0054  0.0105  0.0110  0.0015  0.0072  0.0048   \n",
       "..      ...  ...     ...     ...     ...     ...     ...     ...     ...   \n",
       "203  0.2684  ...  0.0116  0.0098  0.0199  0.0033  0.0101  0.0065  0.0115   \n",
       "204  0.2154  ...  0.0061  0.0093  0.0135  0.0063  0.0063  0.0034  0.0032   \n",
       "205  0.2529  ...  0.0160  0.0029  0.0051  0.0062  0.0089  0.0140  0.0138   \n",
       "206  0.2354  ...  0.0086  0.0046  0.0126  0.0036  0.0035  0.0034  0.0079   \n",
       "207  0.2354  ...  0.0146  0.0129  0.0047  0.0039  0.0061  0.0040  0.0036   \n",
       "\n",
       "         58      59  60_R  \n",
       "0    0.0090  0.0032     1  \n",
       "1    0.0052  0.0044     1  \n",
       "2    0.0095  0.0078     1  \n",
       "3    0.0040  0.0117     1  \n",
       "4    0.0107  0.0094     1  \n",
       "..      ...     ...   ...  \n",
       "203  0.0193  0.0157     0  \n",
       "204  0.0062  0.0067     0  \n",
       "205  0.0077  0.0031     0  \n",
       "206  0.0036  0.0048     0  \n",
       "207  0.0061  0.0115     0  \n",
       "\n",
       "[208 rows x 61 columns]"
      ]
     },
     "execution_count": 36,
     "metadata": {},
     "output_type": "execute_result"
    }
   ],
   "source": [
    "df"
   ]
  },
  {
   "cell_type": "code",
   "execution_count": 37,
   "id": "bfb2a940",
   "metadata": {},
   "outputs": [],
   "source": [
    "x=df.drop('60_R',axis=1)\n",
    "y=df['60_R']"
   ]
  },
  {
   "cell_type": "code",
   "execution_count": 38,
   "id": "304dd0b5",
   "metadata": {},
   "outputs": [
    {
     "data": {
      "text/plain": [
       "0    111\n",
       "1     97\n",
       "Name: 60_R, dtype: int64"
      ]
     },
     "execution_count": 38,
     "metadata": {},
     "output_type": "execute_result"
    }
   ],
   "source": [
    "y.value_counts()"
   ]
  },
  {
   "cell_type": "code",
   "execution_count": 39,
   "id": "1c429a73",
   "metadata": {},
   "outputs": [
    {
     "data": {
      "text/plain": [
       "147    0\n",
       "191    0\n",
       "35     1\n",
       "182    0\n",
       "27     1\n",
       "Name: 60_R, dtype: uint8"
      ]
     },
     "execution_count": 39,
     "metadata": {},
     "output_type": "execute_result"
    }
   ],
   "source": [
    "y.sample(5)"
   ]
  },
  {
   "cell_type": "code",
   "execution_count": 41,
   "id": "195763d5",
   "metadata": {},
   "outputs": [],
   "source": [
    "from sklearn.model_selection import train_test_split\n",
    "x_train,x_test,y_train,y_test=train_test_split(x,y,test_size=0.2,random_state=1)"
   ]
  },
  {
   "cell_type": "code",
   "execution_count": 42,
   "id": "298e229d",
   "metadata": {},
   "outputs": [
    {
     "data": {
      "text/plain": [
       "(166, 60)"
      ]
     },
     "execution_count": 42,
     "metadata": {},
     "output_type": "execute_result"
    }
   ],
   "source": [
    "x_train.shape"
   ]
  },
  {
   "cell_type": "code",
   "execution_count": 43,
   "id": "f5465c8d",
   "metadata": {},
   "outputs": [
    {
     "data": {
      "text/plain": [
       "(42, 60)"
      ]
     },
     "execution_count": 43,
     "metadata": {},
     "output_type": "execute_result"
    }
   ],
   "source": [
    "x_test.shape"
   ]
  },
  {
   "cell_type": "code",
   "execution_count": 44,
   "id": "463e6eb5",
   "metadata": {},
   "outputs": [
    {
     "data": {
      "text/plain": [
       "(166,)"
      ]
     },
     "execution_count": 44,
     "metadata": {},
     "output_type": "execute_result"
    }
   ],
   "source": [
    "y_train.shape"
   ]
  },
  {
   "cell_type": "code",
   "execution_count": 45,
   "id": "2e5d2ad9",
   "metadata": {},
   "outputs": [
    {
     "data": {
      "text/plain": [
       "(42,)"
      ]
     },
     "execution_count": 45,
     "metadata": {},
     "output_type": "execute_result"
    }
   ],
   "source": [
    "y_test.shape"
   ]
  },
  {
   "cell_type": "code",
   "execution_count": 46,
   "id": "7cba4bb1",
   "metadata": {},
   "outputs": [
    {
     "name": "stdout",
     "output_type": "stream",
     "text": [
      "Epoch 1/100\n",
      "21/21 [==============================] - 1s 763us/step - loss: 0.6764 - accuracy: 0.5663\n",
      "Epoch 2/100\n",
      "21/21 [==============================] - 0s 748us/step - loss: 0.6593 - accuracy: 0.5663\n",
      "Epoch 3/100\n",
      "21/21 [==============================] - 0s 748us/step - loss: 0.6432 - accuracy: 0.6145\n",
      "Epoch 4/100\n",
      "21/21 [==============================] - 0s 798us/step - loss: 0.6187 - accuracy: 0.6807\n",
      "Epoch 5/100\n",
      "21/21 [==============================] - 0s 898us/step - loss: 0.5947 - accuracy: 0.6687\n",
      "Epoch 6/100\n",
      "21/21 [==============================] - 0s 848us/step - loss: 0.5716 - accuracy: 0.7229\n",
      "Epoch 7/100\n",
      "21/21 [==============================] - 0s 748us/step - loss: 0.5455 - accuracy: 0.7952\n",
      "Epoch 8/100\n",
      "21/21 [==============================] - 0s 748us/step - loss: 0.5025 - accuracy: 0.8012\n",
      "Epoch 9/100\n",
      "21/21 [==============================] - 0s 748us/step - loss: 0.4733 - accuracy: 0.7771\n",
      "Epoch 10/100\n",
      "21/21 [==============================] - 0s 748us/step - loss: 0.4415 - accuracy: 0.8253\n",
      "Epoch 11/100\n",
      "21/21 [==============================] - 0s 748us/step - loss: 0.4187 - accuracy: 0.8313\n",
      "Epoch 12/100\n",
      "21/21 [==============================] - 0s 748us/step - loss: 0.4033 - accuracy: 0.8434\n",
      "Epoch 13/100\n",
      "21/21 [==============================] - 0s 730us/step - loss: 0.3846 - accuracy: 0.8373\n",
      "Epoch 14/100\n",
      "21/21 [==============================] - 0s 748us/step - loss: 0.4174 - accuracy: 0.7892\n",
      "Epoch 15/100\n",
      "21/21 [==============================] - 0s 748us/step - loss: 0.4125 - accuracy: 0.8133\n",
      "Epoch 16/100\n",
      "21/21 [==============================] - 0s 798us/step - loss: 0.3652 - accuracy: 0.8434\n",
      "Epoch 17/100\n",
      "21/21 [==============================] - 0s 798us/step - loss: 0.3333 - accuracy: 0.8795\n",
      "Epoch 18/100\n",
      "21/21 [==============================] - 0s 798us/step - loss: 0.3345 - accuracy: 0.8614\n",
      "Epoch 19/100\n",
      "21/21 [==============================] - 0s 1ms/step - loss: 0.3161 - accuracy: 0.8675\n",
      "Epoch 20/100\n",
      "21/21 [==============================] - 0s 798us/step - loss: 0.3003 - accuracy: 0.8855\n",
      "Epoch 21/100\n",
      "21/21 [==============================] - 0s 798us/step - loss: 0.2979 - accuracy: 0.8855\n",
      "Epoch 22/100\n",
      "21/21 [==============================] - 0s 748us/step - loss: 0.2932 - accuracy: 0.8855\n",
      "Epoch 23/100\n",
      "21/21 [==============================] - 0s 798us/step - loss: 0.2898 - accuracy: 0.8735\n",
      "Epoch 24/100\n",
      "21/21 [==============================] - 0s 748us/step - loss: 0.2715 - accuracy: 0.8976\n",
      "Epoch 25/100\n",
      "21/21 [==============================] - 0s 748us/step - loss: 0.2421 - accuracy: 0.9217\n",
      "Epoch 26/100\n",
      "21/21 [==============================] - 0s 798us/step - loss: 0.2451 - accuracy: 0.9157\n",
      "Epoch 27/100\n",
      "21/21 [==============================] - 0s 798us/step - loss: 0.2854 - accuracy: 0.8855\n",
      "Epoch 28/100\n",
      "21/21 [==============================] - 0s 798us/step - loss: 0.2457 - accuracy: 0.9157\n",
      "Epoch 29/100\n",
      "21/21 [==============================] - 0s 748us/step - loss: 0.2274 - accuracy: 0.9157\n",
      "Epoch 30/100\n",
      "21/21 [==============================] - 0s 728us/step - loss: 0.2101 - accuracy: 0.9277\n",
      "Epoch 31/100\n",
      "21/21 [==============================] - 0s 748us/step - loss: 0.2212 - accuracy: 0.8916\n",
      "Epoch 32/100\n",
      "21/21 [==============================] - 0s 748us/step - loss: 0.2128 - accuracy: 0.9096\n",
      "Epoch 33/100\n",
      "21/21 [==============================] - 0s 748us/step - loss: 0.1906 - accuracy: 0.9157\n",
      "Epoch 34/100\n",
      "21/21 [==============================] - 0s 748us/step - loss: 0.1880 - accuracy: 0.9398\n",
      "Epoch 35/100\n",
      "21/21 [==============================] - 0s 748us/step - loss: 0.1802 - accuracy: 0.9398\n",
      "Epoch 36/100\n",
      "21/21 [==============================] - 0s 748us/step - loss: 0.1988 - accuracy: 0.9036\n",
      "Epoch 37/100\n",
      "21/21 [==============================] - 0s 698us/step - loss: 0.1617 - accuracy: 0.9458\n",
      "Epoch 38/100\n",
      "21/21 [==============================] - 0s 748us/step - loss: 0.1514 - accuracy: 0.9578\n",
      "Epoch 39/100\n",
      "21/21 [==============================] - 0s 748us/step - loss: 0.1733 - accuracy: 0.9458\n",
      "Epoch 40/100\n",
      "21/21 [==============================] - 0s 698us/step - loss: 0.1339 - accuracy: 0.9639\n",
      "Epoch 41/100\n",
      "21/21 [==============================] - 0s 698us/step - loss: 0.1379 - accuracy: 0.9518\n",
      "Epoch 42/100\n",
      "21/21 [==============================] - 0s 698us/step - loss: 0.1293 - accuracy: 0.9639\n",
      "Epoch 43/100\n",
      "21/21 [==============================] - 0s 698us/step - loss: 0.1245 - accuracy: 0.9578\n",
      "Epoch 44/100\n",
      "21/21 [==============================] - 0s 698us/step - loss: 0.1220 - accuracy: 0.9518\n",
      "Epoch 45/100\n",
      "21/21 [==============================] - 0s 698us/step - loss: 0.1097 - accuracy: 0.9699\n",
      "Epoch 46/100\n",
      "21/21 [==============================] - 0s 748us/step - loss: 0.1059 - accuracy: 0.9578\n",
      "Epoch 47/100\n",
      "21/21 [==============================] - 0s 748us/step - loss: 0.0952 - accuracy: 0.9819\n",
      "Epoch 48/100\n",
      "21/21 [==============================] - 0s 698us/step - loss: 0.0986 - accuracy: 0.9759\n",
      "Epoch 49/100\n",
      "21/21 [==============================] - 0s 698us/step - loss: 0.0902 - accuracy: 0.9819\n",
      "Epoch 50/100\n",
      "21/21 [==============================] - 0s 698us/step - loss: 0.1064 - accuracy: 0.9578\n",
      "Epoch 51/100\n",
      "21/21 [==============================] - 0s 748us/step - loss: 0.0763 - accuracy: 0.9819\n",
      "Epoch 52/100\n",
      "21/21 [==============================] - 0s 753us/step - loss: 0.0716 - accuracy: 0.9880\n",
      "Epoch 53/100\n",
      "21/21 [==============================] - 0s 698us/step - loss: 0.0693 - accuracy: 0.9819\n",
      "Epoch 54/100\n",
      "21/21 [==============================] - 0s 698us/step - loss: 0.0682 - accuracy: 0.9819\n",
      "Epoch 55/100\n",
      "21/21 [==============================] - 0s 698us/step - loss: 0.0573 - accuracy: 0.9940\n",
      "Epoch 56/100\n",
      "21/21 [==============================] - 0s 748us/step - loss: 0.0630 - accuracy: 0.9819\n",
      "Epoch 57/100\n",
      "21/21 [==============================] - 0s 698us/step - loss: 0.0557 - accuracy: 0.9940\n",
      "Epoch 58/100\n",
      "21/21 [==============================] - 0s 698us/step - loss: 0.0568 - accuracy: 0.9880\n",
      "Epoch 59/100\n",
      "21/21 [==============================] - 0s 698us/step - loss: 0.0606 - accuracy: 0.9819\n",
      "Epoch 60/100\n",
      "21/21 [==============================] - 0s 698us/step - loss: 0.0482 - accuracy: 0.9940\n",
      "Epoch 61/100\n",
      "21/21 [==============================] - 0s 698us/step - loss: 0.0532 - accuracy: 0.9880\n",
      "Epoch 62/100\n",
      "21/21 [==============================] - 0s 698us/step - loss: 0.0346 - accuracy: 1.0000\n",
      "Epoch 63/100\n",
      "21/21 [==============================] - 0s 698us/step - loss: 0.0394 - accuracy: 0.9880\n",
      "Epoch 64/100\n",
      "21/21 [==============================] - 0s 698us/step - loss: 0.0376 - accuracy: 1.0000\n",
      "Epoch 65/100\n",
      "21/21 [==============================] - 0s 748us/step - loss: 0.0337 - accuracy: 1.0000\n",
      "Epoch 66/100\n",
      "21/21 [==============================] - 0s 748us/step - loss: 0.0381 - accuracy: 0.9940\n",
      "Epoch 67/100\n",
      "21/21 [==============================] - 0s 698us/step - loss: 0.0286 - accuracy: 1.0000\n",
      "Epoch 68/100\n",
      "21/21 [==============================] - 0s 698us/step - loss: 0.0260 - accuracy: 1.0000\n",
      "Epoch 69/100\n",
      "21/21 [==============================] - 0s 748us/step - loss: 0.0244 - accuracy: 1.0000\n",
      "Epoch 70/100\n",
      "21/21 [==============================] - 0s 698us/step - loss: 0.0274 - accuracy: 1.0000\n",
      "Epoch 71/100\n",
      "21/21 [==============================] - 0s 698us/step - loss: 0.0265 - accuracy: 1.0000\n",
      "Epoch 72/100\n",
      "21/21 [==============================] - 0s 698us/step - loss: 0.0195 - accuracy: 1.0000\n",
      "Epoch 73/100\n",
      "21/21 [==============================] - 0s 698us/step - loss: 0.0172 - accuracy: 1.0000\n",
      "Epoch 74/100\n",
      "21/21 [==============================] - 0s 698us/step - loss: 0.0186 - accuracy: 1.0000\n",
      "Epoch 75/100\n",
      "21/21 [==============================] - 0s 698us/step - loss: 0.0192 - accuracy: 1.0000\n",
      "Epoch 76/100\n",
      "21/21 [==============================] - 0s 698us/step - loss: 0.0187 - accuracy: 1.0000\n",
      "Epoch 77/100\n",
      "21/21 [==============================] - 0s 698us/step - loss: 0.0136 - accuracy: 1.0000\n",
      "Epoch 78/100\n",
      "21/21 [==============================] - 0s 698us/step - loss: 0.0137 - accuracy: 1.0000\n",
      "Epoch 79/100\n",
      "21/21 [==============================] - 0s 698us/step - loss: 0.0133 - accuracy: 1.0000\n",
      "Epoch 80/100\n",
      "21/21 [==============================] - 0s 748us/step - loss: 0.0119 - accuracy: 1.0000\n",
      "Epoch 81/100\n"
     ]
    },
    {
     "name": "stdout",
     "output_type": "stream",
     "text": [
      "21/21 [==============================] - 0s 729us/step - loss: 0.0118 - accuracy: 1.0000\n",
      "Epoch 82/100\n",
      "21/21 [==============================] - 0s 698us/step - loss: 0.0104 - accuracy: 1.0000\n",
      "Epoch 83/100\n",
      "21/21 [==============================] - 0s 748us/step - loss: 0.0095 - accuracy: 1.0000\n",
      "Epoch 84/100\n",
      "21/21 [==============================] - 0s 698us/step - loss: 0.0083 - accuracy: 1.0000\n",
      "Epoch 85/100\n",
      "21/21 [==============================] - 0s 698us/step - loss: 0.0078 - accuracy: 1.0000\n",
      "Epoch 86/100\n",
      "21/21 [==============================] - 0s 698us/step - loss: 0.0081 - accuracy: 1.0000\n",
      "Epoch 87/100\n",
      "21/21 [==============================] - 0s 748us/step - loss: 0.0077 - accuracy: 1.0000\n",
      "Epoch 88/100\n",
      "21/21 [==============================] - 0s 698us/step - loss: 0.0072 - accuracy: 1.0000\n",
      "Epoch 89/100\n",
      "21/21 [==============================] - 0s 698us/step - loss: 0.0074 - accuracy: 1.0000\n",
      "Epoch 90/100\n",
      "21/21 [==============================] - 0s 698us/step - loss: 0.0103 - accuracy: 1.0000\n",
      "Epoch 91/100\n",
      "21/21 [==============================] - 0s 698us/step - loss: 0.0070 - accuracy: 1.0000\n",
      "Epoch 92/100\n",
      "21/21 [==============================] - 0s 698us/step - loss: 0.0058 - accuracy: 1.0000\n",
      "Epoch 93/100\n",
      "21/21 [==============================] - 0s 698us/step - loss: 0.0052 - accuracy: 1.0000\n",
      "Epoch 94/100\n",
      "21/21 [==============================] - 0s 748us/step - loss: 0.0052 - accuracy: 1.0000\n",
      "Epoch 95/100\n",
      "21/21 [==============================] - 0s 698us/step - loss: 0.0050 - accuracy: 1.0000\n",
      "Epoch 96/100\n",
      "21/21 [==============================] - 0s 748us/step - loss: 0.0045 - accuracy: 1.0000\n",
      "Epoch 97/100\n",
      "21/21 [==============================] - 0s 748us/step - loss: 0.0047 - accuracy: 1.0000\n",
      "Epoch 98/100\n",
      "21/21 [==============================] - 0s 748us/step - loss: 0.0042 - accuracy: 1.0000\n",
      "Epoch 99/100\n",
      "21/21 [==============================] - 0s 748us/step - loss: 0.0044 - accuracy: 1.0000\n",
      "Epoch 100/100\n",
      "21/21 [==============================] - 0s 748us/step - loss: 0.0044 - accuracy: 1.0000\n"
     ]
    },
    {
     "data": {
      "text/plain": [
       "<keras.callbacks.History at 0x1bfdcb9e1f0>"
      ]
     },
     "execution_count": 46,
     "metadata": {},
     "output_type": "execute_result"
    }
   ],
   "source": [
    "model=keras.Sequential([keras.layers.Dense(60,input_dim=60,activation='relu'),\n",
    "                       keras.layers.Dense(30,activation='relu'),\n",
    "                       keras.layers.Dense(15,activation='relu'),\n",
    "                       keras.layers.Dense(1,activation='sigmoid')])\n",
    "model.compile(loss='binary_crossentropy',optimizer='adam',metrics=['accuracy'])\n",
    "model.fit(x_train,y_train,epochs=100,batch_size=8)"
   ]
  },
  {
   "cell_type": "code",
   "execution_count": 47,
   "id": "b17bb02e",
   "metadata": {},
   "outputs": [
    {
     "name": "stdout",
     "output_type": "stream",
     "text": [
      "2/2 [==============================] - 0s 2ms/step - loss: 1.4429 - accuracy: 0.7619\n"
     ]
    },
    {
     "data": {
      "text/plain": [
       "[1.4428755044937134, 0.761904776096344]"
      ]
     },
     "execution_count": 47,
     "metadata": {},
     "output_type": "execute_result"
    }
   ],
   "source": [
    "model.evaluate(x_test,y_test)"
   ]
  },
  {
   "cell_type": "code",
   "execution_count": 50,
   "id": "b2232b79",
   "metadata": {},
   "outputs": [
    {
     "name": "stdout",
     "output_type": "stream",
     "text": [
      "2/2 [==============================] - 0s 999us/step\n"
     ]
    }
   ],
   "source": [
    "y_pred=model.predict(x_test).reshape(-1)"
   ]
  },
  {
   "cell_type": "code",
   "execution_count": 51,
   "id": "63b5011c",
   "metadata": {},
   "outputs": [
    {
     "data": {
      "text/plain": [
       "array([4.0474606e-09, 9.9259591e-01, 9.8631454e-01, 2.6751904e-05,\n",
       "       9.9999577e-01], dtype=float32)"
      ]
     },
     "execution_count": 51,
     "metadata": {},
     "output_type": "execute_result"
    }
   ],
   "source": [
    "y_pred[:5]"
   ]
  },
  {
   "cell_type": "code",
   "execution_count": 52,
   "id": "12596295",
   "metadata": {},
   "outputs": [],
   "source": [
    "y_pred1=np.round(y_pred)"
   ]
  },
  {
   "cell_type": "code",
   "execution_count": 53,
   "id": "fb8523aa",
   "metadata": {},
   "outputs": [
    {
     "data": {
      "text/plain": [
       "array([0., 1., 1., 0., 1., 1., 0., 1., 0., 1., 0., 0., 0., 0., 0., 0., 1.,\n",
       "       0., 0., 1., 0., 1., 0., 1., 0., 0., 0., 0., 1., 0., 1., 0., 1., 0.,\n",
       "       1., 1., 1., 1., 1., 0., 0., 0.], dtype=float32)"
      ]
     },
     "execution_count": 53,
     "metadata": {},
     "output_type": "execute_result"
    }
   ],
   "source": [
    "y_pred1"
   ]
  },
  {
   "cell_type": "code",
   "execution_count": 54,
   "id": "cc9b1e67",
   "metadata": {},
   "outputs": [
    {
     "data": {
      "text/plain": [
       "array([4.0474606e-09, 9.9259591e-01, 9.8631454e-01, 2.6751904e-05,\n",
       "       9.9999577e-01], dtype=float32)"
      ]
     },
     "execution_count": 54,
     "metadata": {},
     "output_type": "execute_result"
    }
   ],
   "source": [
    "y_pred[:5]"
   ]
  },
  {
   "cell_type": "code",
   "execution_count": 57,
   "id": "4762dcf2",
   "metadata": {},
   "outputs": [
    {
     "data": {
      "text/plain": [
       "array([0., 1., 1., 0., 1., 1., 0., 1., 0., 1.], dtype=float32)"
      ]
     },
     "execution_count": 57,
     "metadata": {},
     "output_type": "execute_result"
    }
   ],
   "source": [
    "y_pred1[:10]"
   ]
  },
  {
   "cell_type": "code",
   "execution_count": 58,
   "id": "7496ca27",
   "metadata": {},
   "outputs": [
    {
     "data": {
      "text/plain": [
       "186    0\n",
       "155    0\n",
       "165    0\n",
       "200    0\n",
       "58     1\n",
       "34     1\n",
       "151    0\n",
       "18     1\n",
       "202    0\n",
       "62     1\n",
       "Name: 60_R, dtype: uint8"
      ]
     },
     "execution_count": 58,
     "metadata": {},
     "output_type": "execute_result"
    }
   ],
   "source": [
    "y_test[:10]"
   ]
  },
  {
   "cell_type": "code",
   "execution_count": 59,
   "id": "2ea1aa03",
   "metadata": {},
   "outputs": [],
   "source": [
    "from sklearn.metrics import confusion_matrix,classification_report\n"
   ]
  },
  {
   "cell_type": "code",
   "execution_count": 61,
   "id": "92a812af",
   "metadata": {},
   "outputs": [
    {
     "name": "stdout",
     "output_type": "stream",
     "text": [
      "              precision    recall  f1-score   support\n",
      "\n",
      "           0       0.71      0.85      0.77        20\n",
      "           1       0.83      0.68      0.75        22\n",
      "\n",
      "    accuracy                           0.76        42\n",
      "   macro avg       0.77      0.77      0.76        42\n",
      "weighted avg       0.77      0.76      0.76        42\n",
      "\n"
     ]
    }
   ],
   "source": [
    "print(classification_report(y_test,y_pred1))"
   ]
  },
  {
   "cell_type": "code",
   "execution_count": 63,
   "id": "b8c96683",
   "metadata": {},
   "outputs": [],
   "source": [
    "import math\n",
    "cm=tf.math.confusion_matrix(labels=y_test,predictions=y_pred)"
   ]
  },
  {
   "cell_type": "code",
   "execution_count": 64,
   "id": "9fe1174e",
   "metadata": {},
   "outputs": [
    {
     "data": {
      "text/plain": [
       "<tf.Tensor: shape=(2, 2), dtype=int32, numpy=\n",
       "array([[20,  0],\n",
       "       [22,  0]])>"
      ]
     },
     "execution_count": 64,
     "metadata": {},
     "output_type": "execute_result"
    }
   ],
   "source": [
    "cm"
   ]
  },
  {
   "cell_type": "code",
   "execution_count": 66,
   "id": "54d16aea",
   "metadata": {},
   "outputs": [
    {
     "data": {
      "image/png": "[encoded data removed]",
      "text/plain": [
       "<Figure size 432x288 with 2 Axes>"
      ]
     },
     "metadata": {
      "needs_background": "light"
     },
     "output_type": "display_data"
    }
   ],
   "source": [
    "import seaborn as sns\n",
    "sns.heatmap(cm,annot=True,fmt='d')\n",
    "plt.xlabel('predicted')\n",
    "plt.ylabel('Truth')\n",
    "plt.show()"
   ]
  },
  {
   "cell_type": "code",
   "execution_count": 67,
   "id": "6a5e3904",
   "metadata": {},
   "outputs": [
    {
     "name": "stdout",
     "output_type": "stream",
     "text": [
      "Epoch 1/100\n",
      "21/21 [==============================] - 0s 997us/step - loss: 0.7348 - accuracy: 0.5000\n",
      "Epoch 2/100\n",
      "21/21 [==============================] - 0s 1ms/step - loss: 0.7237 - accuracy: 0.4699\n",
      "Epoch 3/100\n",
      "21/21 [==============================] - 0s 798us/step - loss: 0.6927 - accuracy: 0.5301\n",
      "Epoch 4/100\n",
      "21/21 [==============================] - 0s 848us/step - loss: 0.7016 - accuracy: 0.5000\n",
      "Epoch 5/100\n",
      "21/21 [==============================] - 0s 823us/step - loss: 0.6819 - accuracy: 0.5904\n",
      "Epoch 6/100\n",
      "21/21 [==============================] - 0s 829us/step - loss: 0.6855 - accuracy: 0.5361\n",
      "Epoch 7/100\n",
      "21/21 [==============================] - 0s 848us/step - loss: 0.6825 - accuracy: 0.5482\n",
      "Epoch 8/100\n",
      "21/21 [==============================] - 0s 848us/step - loss: 0.6954 - accuracy: 0.5000\n",
      "Epoch 9/100\n",
      "21/21 [==============================] - 0s 798us/step - loss: 0.6975 - accuracy: 0.4880\n",
      "Epoch 10/100\n",
      "21/21 [==============================] - 0s 798us/step - loss: 0.6716 - accuracy: 0.5663\n",
      "Epoch 11/100\n",
      "21/21 [==============================] - 0s 798us/step - loss: 0.6689 - accuracy: 0.5482\n",
      "Epoch 12/100\n",
      "21/21 [==============================] - 0s 746us/step - loss: 0.6494 - accuracy: 0.6566\n",
      "Epoch 13/100\n",
      "21/21 [==============================] - 0s 848us/step - loss: 0.6736 - accuracy: 0.5301\n",
      "Epoch 14/100\n",
      "21/21 [==============================] - 0s 947us/step - loss: 0.6546 - accuracy: 0.6325\n",
      "Epoch 15/100\n",
      "21/21 [==============================] - 0s 798us/step - loss: 0.6975 - accuracy: 0.5301\n",
      "Epoch 16/100\n",
      "21/21 [==============================] - 0s 848us/step - loss: 0.6602 - accuracy: 0.6205\n",
      "Epoch 17/100\n",
      "21/21 [==============================] - 0s 798us/step - loss: 0.6594 - accuracy: 0.5904\n",
      "Epoch 18/100\n",
      "21/21 [==============================] - 0s 798us/step - loss: 0.6685 - accuracy: 0.5723\n",
      "Epoch 19/100\n",
      "21/21 [==============================] - 0s 798us/step - loss: 0.6615 - accuracy: 0.6265\n",
      "Epoch 20/100\n",
      "21/21 [==============================] - 0s 748us/step - loss: 0.6388 - accuracy: 0.6265\n",
      "Epoch 21/100\n",
      "21/21 [==============================] - 0s 798us/step - loss: 0.6598 - accuracy: 0.5602\n",
      "Epoch 22/100\n",
      "21/21 [==============================] - 0s 824us/step - loss: 0.6526 - accuracy: 0.6084\n",
      "Epoch 23/100\n",
      "21/21 [==============================] - 0s 848us/step - loss: 0.6502 - accuracy: 0.6024\n",
      "Epoch 24/100\n",
      "21/21 [==============================] - 0s 798us/step - loss: 0.6565 - accuracy: 0.6265\n",
      "Epoch 25/100\n",
      "21/21 [==============================] - 0s 797us/step - loss: 0.6389 - accuracy: 0.6325\n",
      "Epoch 26/100\n",
      "21/21 [==============================] - 0s 798us/step - loss: 0.6460 - accuracy: 0.6386\n",
      "Epoch 27/100\n",
      "21/21 [==============================] - 0s 899us/step - loss: 0.6139 - accuracy: 0.7229\n",
      "Epoch 28/100\n",
      "21/21 [==============================] - 0s 779us/step - loss: 0.6154 - accuracy: 0.6627\n",
      "Epoch 29/100\n",
      "21/21 [==============================] - 0s 798us/step - loss: 0.6042 - accuracy: 0.7108\n",
      "Epoch 30/100\n",
      "21/21 [==============================] - 0s 848us/step - loss: 0.6122 - accuracy: 0.6807\n",
      "Epoch 31/100\n",
      "21/21 [==============================] - 0s 848us/step - loss: 0.6347 - accuracy: 0.6747\n",
      "Epoch 32/100\n",
      "21/21 [==============================] - 0s 798us/step - loss: 0.6063 - accuracy: 0.6807\n",
      "Epoch 33/100\n",
      "21/21 [==============================] - 0s 776us/step - loss: 0.5939 - accuracy: 0.6988\n",
      "Epoch 34/100\n",
      "21/21 [==============================] - 0s 798us/step - loss: 0.5751 - accuracy: 0.6867\n",
      "Epoch 35/100\n",
      "21/21 [==============================] - 0s 798us/step - loss: 0.5772 - accuracy: 0.6988\n",
      "Epoch 36/100\n",
      "21/21 [==============================] - 0s 798us/step - loss: 0.5724 - accuracy: 0.6988\n",
      "Epoch 37/100\n",
      "21/21 [==============================] - 0s 798us/step - loss: 0.5413 - accuracy: 0.6988\n",
      "Epoch 38/100\n",
      "21/21 [==============================] - 0s 748us/step - loss: 0.5630 - accuracy: 0.6928\n",
      "Epoch 39/100\n",
      "21/21 [==============================] - 0s 798us/step - loss: 0.5679 - accuracy: 0.7410\n",
      "Epoch 40/100\n",
      "21/21 [==============================] - 0s 748us/step - loss: 0.5627 - accuracy: 0.7530\n",
      "Epoch 41/100\n",
      "21/21 [==============================] - 0s 798us/step - loss: 0.5546 - accuracy: 0.7108\n",
      "Epoch 42/100\n",
      "21/21 [==============================] - 0s 748us/step - loss: 0.4929 - accuracy: 0.7530\n",
      "Epoch 43/100\n",
      "21/21 [==============================] - 0s 748us/step - loss: 0.5042 - accuracy: 0.7229\n",
      "Epoch 44/100\n",
      "21/21 [==============================] - 0s 798us/step - loss: 0.5152 - accuracy: 0.8072\n",
      "Epoch 45/100\n",
      "21/21 [==============================] - 0s 798us/step - loss: 0.5120 - accuracy: 0.7831\n",
      "Epoch 46/100\n",
      "21/21 [==============================] - 0s 748us/step - loss: 0.4738 - accuracy: 0.7771\n",
      "Epoch 47/100\n",
      "21/21 [==============================] - 0s 748us/step - loss: 0.5223 - accuracy: 0.7048\n",
      "Epoch 48/100\n",
      "21/21 [==============================] - 0s 748us/step - loss: 0.4256 - accuracy: 0.8193\n",
      "Epoch 49/100\n",
      "21/21 [==============================] - 0s 798us/step - loss: 0.4750 - accuracy: 0.7952\n",
      "Epoch 50/100\n",
      "21/21 [==============================] - 0s 748us/step - loss: 0.4479 - accuracy: 0.7771\n",
      "Epoch 51/100\n",
      "21/21 [==============================] - 0s 798us/step - loss: 0.4836 - accuracy: 0.7470\n",
      "Epoch 52/100\n",
      "21/21 [==============================] - 0s 798us/step - loss: 0.4539 - accuracy: 0.7530\n",
      "Epoch 53/100\n",
      "21/21 [==============================] - 0s 798us/step - loss: 0.4367 - accuracy: 0.8072\n",
      "Epoch 54/100\n",
      "21/21 [==============================] - 0s 778us/step - loss: 0.5052 - accuracy: 0.7831\n",
      "Epoch 55/100\n",
      "21/21 [==============================] - 0s 798us/step - loss: 0.4452 - accuracy: 0.8072\n",
      "Epoch 56/100\n",
      "21/21 [==============================] - 0s 798us/step - loss: 0.4374 - accuracy: 0.7831\n",
      "Epoch 57/100\n",
      "21/21 [==============================] - 0s 748us/step - loss: 0.4433 - accuracy: 0.7892\n",
      "Epoch 58/100\n",
      "21/21 [==============================] - 0s 748us/step - loss: 0.3680 - accuracy: 0.8313\n",
      "Epoch 59/100\n",
      "21/21 [==============================] - 0s 748us/step - loss: 0.4523 - accuracy: 0.8373\n",
      "Epoch 60/100\n",
      "21/21 [==============================] - 0s 748us/step - loss: 0.4404 - accuracy: 0.7711\n",
      "Epoch 61/100\n",
      "21/21 [==============================] - 0s 748us/step - loss: 0.4220 - accuracy: 0.8494\n",
      "Epoch 62/100\n",
      "21/21 [==============================] - 0s 748us/step - loss: 0.4178 - accuracy: 0.8313\n",
      "Epoch 63/100\n",
      "21/21 [==============================] - 0s 748us/step - loss: 0.4091 - accuracy: 0.8434\n",
      "Epoch 64/100\n",
      "21/21 [==============================] - 0s 748us/step - loss: 0.3919 - accuracy: 0.8193\n",
      "Epoch 65/100\n",
      "21/21 [==============================] - 0s 798us/step - loss: 0.3399 - accuracy: 0.8916\n",
      "Epoch 66/100\n",
      "21/21 [==============================] - 0s 997us/step - loss: 0.3998 - accuracy: 0.8373\n",
      "Epoch 67/100\n",
      "21/21 [==============================] - 0s 748us/step - loss: 0.3172 - accuracy: 0.8614\n",
      "Epoch 68/100\n",
      "21/21 [==============================] - 0s 748us/step - loss: 0.3894 - accuracy: 0.8253\n",
      "Epoch 69/100\n",
      "21/21 [==============================] - 0s 748us/step - loss: 0.3652 - accuracy: 0.8193\n",
      "Epoch 70/100\n",
      "21/21 [==============================] - 0s 748us/step - loss: 0.4158 - accuracy: 0.8253\n",
      "Epoch 71/100\n",
      "21/21 [==============================] - 0s 748us/step - loss: 0.3808 - accuracy: 0.8675\n",
      "Epoch 72/100\n",
      "21/21 [==============================] - 0s 748us/step - loss: 0.3939 - accuracy: 0.8855\n",
      "Epoch 73/100\n",
      "21/21 [==============================] - 0s 748us/step - loss: 0.3860 - accuracy: 0.8193\n",
      "Epoch 74/100\n",
      "21/21 [==============================] - 0s 778us/step - loss: 0.3738 - accuracy: 0.8133\n",
      "Epoch 75/100\n",
      "21/21 [==============================] - 0s 748us/step - loss: 0.3570 - accuracy: 0.8675\n",
      "Epoch 76/100\n",
      "21/21 [==============================] - 0s 748us/step - loss: 0.3588 - accuracy: 0.8313\n",
      "Epoch 77/100\n",
      "21/21 [==============================] - 0s 748us/step - loss: 0.3267 - accuracy: 0.8735\n",
      "Epoch 78/100\n",
      "21/21 [==============================] - 0s 798us/step - loss: 0.3596 - accuracy: 0.8373\n",
      "Epoch 79/100\n",
      "21/21 [==============================] - 0s 748us/step - loss: 0.3901 - accuracy: 0.8373\n",
      "Epoch 80/100\n",
      "21/21 [==============================] - 0s 748us/step - loss: 0.3235 - accuracy: 0.8494\n",
      "Epoch 81/100\n"
     ]
    },
    {
     "name": "stdout",
     "output_type": "stream",
     "text": [
      "21/21 [==============================] - 0s 748us/step - loss: 0.3271 - accuracy: 0.8614\n",
      "Epoch 82/100\n",
      "21/21 [==============================] - 0s 798us/step - loss: 0.3109 - accuracy: 0.8735\n",
      "Epoch 83/100\n",
      "21/21 [==============================] - 0s 789us/step - loss: 0.3384 - accuracy: 0.8675\n",
      "Epoch 84/100\n",
      "21/21 [==============================] - 0s 798us/step - loss: 0.3494 - accuracy: 0.8554\n",
      "Epoch 85/100\n",
      "21/21 [==============================] - 0s 748us/step - loss: 0.3285 - accuracy: 0.9036\n",
      "Epoch 86/100\n",
      "21/21 [==============================] - 0s 748us/step - loss: 0.3066 - accuracy: 0.8735\n",
      "Epoch 87/100\n",
      "21/21 [==============================] - 0s 748us/step - loss: 0.3527 - accuracy: 0.8735\n",
      "Epoch 88/100\n",
      "21/21 [==============================] - 0s 798us/step - loss: 0.3501 - accuracy: 0.8313\n",
      "Epoch 89/100\n",
      "21/21 [==============================] - 0s 748us/step - loss: 0.3014 - accuracy: 0.8855\n",
      "Epoch 90/100\n",
      "21/21 [==============================] - 0s 748us/step - loss: 0.2992 - accuracy: 0.8614\n",
      "Epoch 91/100\n",
      "21/21 [==============================] - 0s 748us/step - loss: 0.2743 - accuracy: 0.9096\n",
      "Epoch 92/100\n",
      "21/21 [==============================] - 0s 798us/step - loss: 0.2689 - accuracy: 0.8855\n",
      "Epoch 93/100\n",
      "21/21 [==============================] - 0s 798us/step - loss: 0.3269 - accuracy: 0.8373\n",
      "Epoch 94/100\n",
      "21/21 [==============================] - 0s 748us/step - loss: 0.2935 - accuracy: 0.8795\n",
      "Epoch 95/100\n",
      "21/21 [==============================] - 0s 748us/step - loss: 0.3397 - accuracy: 0.8554\n",
      "Epoch 96/100\n",
      "21/21 [==============================] - 0s 798us/step - loss: 0.2618 - accuracy: 0.9217\n",
      "Epoch 97/100\n",
      "21/21 [==============================] - 0s 798us/step - loss: 0.2744 - accuracy: 0.8976\n",
      "Epoch 98/100\n",
      "21/21 [==============================] - 0s 798us/step - loss: 0.3042 - accuracy: 0.8675\n",
      "Epoch 99/100\n",
      "21/21 [==============================] - 0s 748us/step - loss: 0.2942 - accuracy: 0.9096\n",
      "Epoch 100/100\n",
      "21/21 [==============================] - 0s 748us/step - loss: 0.2685 - accuracy: 0.9096\n"
     ]
    },
    {
     "data": {
      "text/plain": [
       "<keras.callbacks.History at 0x1bfe01eb550>"
      ]
     },
     "execution_count": 67,
     "metadata": {},
     "output_type": "execute_result"
    }
   ],
   "source": [
    "#By using Dropout Regularization how my model is performing:\n",
    "modeld=keras.Sequential([keras.layers.Dense(60,input_dim=60,activation='relu'),\n",
    "                        keras.layers.Dropout(0.5),\n",
    "                       keras.layers.Dense(30,activation='relu'),\n",
    "                        keras.layers.Dropout(0.5),\n",
    "                       keras.layers.Dense(15,activation='relu'),\n",
    "                        keras.layers.Dropout(0.5),\n",
    "                       keras.layers.Dense(1,activation='sigmoid')])\n",
    "modeld.compile(loss='binary_crossentropy',optimizer='adam',metrics=['accuracy'])\n",
    "modeld.fit(x_train,y_train,epochs=100,batch_size=8)"
   ]
  },
  {
   "cell_type": "code",
   "execution_count": 68,
   "id": "7ded1d92",
   "metadata": {},
   "outputs": [
    {
     "name": "stdout",
     "output_type": "stream",
     "text": [
      "2/2 [==============================] - 0s 997us/step - loss: 0.4504 - accuracy: 0.8333\n"
     ]
    },
    {
     "data": {
      "text/plain": [
       "[0.45037218928337097, 0.8333333134651184]"
      ]
     },
     "execution_count": 68,
     "metadata": {},
     "output_type": "execute_result"
    }
   ],
   "source": [
    "modeld.evaluate(x_test,y_test)"
   ]
  },
  {
   "cell_type": "code",
   "execution_count": 69,
   "id": "b0f6a672",
   "metadata": {},
   "outputs": [
    {
     "name": "stdout",
     "output_type": "stream",
     "text": [
      "2/2 [==============================] - 0s 2ms/step\n"
     ]
    }
   ],
   "source": [
    "y_pred2=modeld.predict(x_test)"
   ]
  },
  {
   "cell_type": "code",
   "execution_count": 70,
   "id": "bb6dd166",
   "metadata": {},
   "outputs": [],
   "source": [
    "y_pred3=np.round(y_pred2)"
   ]
  },
  {
   "cell_type": "code",
   "execution_count": 72,
   "id": "a15c84b5",
   "metadata": {},
   "outputs": [
    {
     "data": {
      "text/plain": [
       "array([[0.],\n",
       "       [0.],\n",
       "       [1.],\n",
       "       [0.],\n",
       "       [1.],\n",
       "       [1.],\n",
       "       [0.],\n",
       "       [1.],\n",
       "       [0.],\n",
       "       [1.]], dtype=float32)"
      ]
     },
     "execution_count": 72,
     "metadata": {},
     "output_type": "execute_result"
    }
   ],
   "source": [
    "y_pred3[:10]"
   ]
  },
  {
   "cell_type": "code",
   "execution_count": 73,
   "id": "656459ba",
   "metadata": {},
   "outputs": [
    {
     "data": {
      "text/plain": [
       "186    0\n",
       "155    0\n",
       "165    0\n",
       "200    0\n",
       "58     1\n",
       "34     1\n",
       "151    0\n",
       "18     1\n",
       "202    0\n",
       "62     1\n",
       "Name: 60_R, dtype: uint8"
      ]
     },
     "execution_count": 73,
     "metadata": {},
     "output_type": "execute_result"
    }
   ],
   "source": [
    "y_test[:10]"
   ]
  },
  {
   "cell_type": "code",
   "execution_count": 76,
   "id": "ea25b635",
   "metadata": {},
   "outputs": [
    {
     "name": "stdout",
     "output_type": "stream",
     "text": [
      "              precision    recall  f1-score   support\n",
      "\n",
      "           0       0.76      0.95      0.84        20\n",
      "           1       0.94      0.73      0.82        22\n",
      "\n",
      "    accuracy                           0.83        42\n",
      "   macro avg       0.85      0.84      0.83        42\n",
      "weighted avg       0.85      0.83      0.83        42\n",
      "\n"
     ]
    }
   ],
   "source": [
    "print(classification_report(y_test,y_pred3))"
   ]
  },
  {
   "cell_type": "code",
   "execution_count": 77,
   "id": "e4c04962",
   "metadata": {},
   "outputs": [],
   "source": [
    "import math\n",
    "cm=tf.math.confusion_matrix(labels=y_test,predictions=y_pred3)"
   ]
  },
  {
   "cell_type": "code",
   "execution_count": 78,
   "id": "3962cb7d",
   "metadata": {},
   "outputs": [
    {
     "data": {
      "text/plain": [
       "<tf.Tensor: shape=(2, 2), dtype=int32, numpy=\n",
       "array([[19,  1],\n",
       "       [ 6, 16]])>"
      ]
     },
     "execution_count": 78,
     "metadata": {},
     "output_type": "execute_result"
    }
   ],
   "source": [
    "cm"
   ]
  },
  {
   "cell_type": "code",
   "execution_count": null,
   "id": "d380ce12",
   "metadata": {},
   "outputs": [],
   "source": []
  }
 ],
 "metadata": {
  "kernelspec": {
   "display_name": "Python 3 (ipykernel)",
   "language": "python",
   "name": "python3"
  },
  "language_info": {
   "codemirror_mode": {
    "name": "ipython",
    "version": 3
   },
   "file_extension": ".py",
   "mimetype": "text/x-python",
   "name": "python",
   "nbconvert_exporter": "python",
   "pygments_lexer": "ipython3",
   "version": "3.9.12"
  }
 },
 "nbformat": 4,
 "nbformat_minor": 5
}
